{
 "cells": [
  {
   "cell_type": "code",
   "execution_count": 1,
   "id": "a2029f52-d486-4af4-9b68-77739a64b0b6",
   "metadata": {},
   "outputs": [],
   "source": [
    "import pandas as pd"
   ]
  },
  {
   "cell_type": "code",
   "execution_count": 2,
   "id": "f419b94f-16ab-4c56-aad5-69fd98edb8fe",
   "metadata": {},
   "outputs": [],
   "source": [
    "# Datensatz einlesen\n",
    "file_path = \"../data/Spotify_Youtube.csv\"\n",
    "df_spotify_youtube = pd.read_csv(file_path)"
   ]
  },
  {
   "cell_type": "code",
   "execution_count": 3,
   "id": "c6733bb1-e020-45d4-a8f2-4114f76db52a",
   "metadata": {},
   "outputs": [
    {
     "data": {
      "text/html": [
       "<div>\n",
       "<style scoped>\n",
       "    .dataframe tbody tr th:only-of-type {\n",
       "        vertical-align: middle;\n",
       "    }\n",
       "\n",
       "    .dataframe tbody tr th {\n",
       "        vertical-align: top;\n",
       "    }\n",
       "\n",
       "    .dataframe thead th {\n",
       "        text-align: right;\n",
       "    }\n",
       "</style>\n",
       "<table border=\"1\" class=\"dataframe\">\n",
       "  <thead>\n",
       "    <tr style=\"text-align: right;\">\n",
       "      <th></th>\n",
       "      <th>Unnamed: 0</th>\n",
       "      <th>Danceability</th>\n",
       "      <th>Energy</th>\n",
       "      <th>Key</th>\n",
       "      <th>Loudness</th>\n",
       "      <th>Speechiness</th>\n",
       "      <th>Acousticness</th>\n",
       "      <th>Instrumentalness</th>\n",
       "      <th>Liveness</th>\n",
       "      <th>Valence</th>\n",
       "      <th>Tempo</th>\n",
       "      <th>Duration_ms</th>\n",
       "      <th>Views</th>\n",
       "      <th>Likes</th>\n",
       "      <th>Comments</th>\n",
       "      <th>Stream</th>\n",
       "    </tr>\n",
       "  </thead>\n",
       "  <tbody>\n",
       "    <tr>\n",
       "      <th>count</th>\n",
       "      <td>20718.000000</td>\n",
       "      <td>20716.000000</td>\n",
       "      <td>20716.000000</td>\n",
       "      <td>20716.000000</td>\n",
       "      <td>20716.000000</td>\n",
       "      <td>20716.000000</td>\n",
       "      <td>20716.000000</td>\n",
       "      <td>20716.000000</td>\n",
       "      <td>20716.000000</td>\n",
       "      <td>20716.000000</td>\n",
       "      <td>20716.000000</td>\n",
       "      <td>2.071600e+04</td>\n",
       "      <td>2.024800e+04</td>\n",
       "      <td>2.017700e+04</td>\n",
       "      <td>2.014900e+04</td>\n",
       "      <td>2.014200e+04</td>\n",
       "    </tr>\n",
       "    <tr>\n",
       "      <th>mean</th>\n",
       "      <td>10358.500000</td>\n",
       "      <td>0.619777</td>\n",
       "      <td>0.635250</td>\n",
       "      <td>5.300348</td>\n",
       "      <td>-7.671680</td>\n",
       "      <td>0.096456</td>\n",
       "      <td>0.291535</td>\n",
       "      <td>0.055962</td>\n",
       "      <td>0.193521</td>\n",
       "      <td>0.529853</td>\n",
       "      <td>120.638340</td>\n",
       "      <td>2.247176e+05</td>\n",
       "      <td>9.393782e+07</td>\n",
       "      <td>6.633411e+05</td>\n",
       "      <td>2.751899e+04</td>\n",
       "      <td>1.359422e+08</td>\n",
       "    </tr>\n",
       "    <tr>\n",
       "      <th>std</th>\n",
       "      <td>5980.915774</td>\n",
       "      <td>0.165272</td>\n",
       "      <td>0.214147</td>\n",
       "      <td>3.576449</td>\n",
       "      <td>4.632749</td>\n",
       "      <td>0.111960</td>\n",
       "      <td>0.286299</td>\n",
       "      <td>0.193262</td>\n",
       "      <td>0.168531</td>\n",
       "      <td>0.245441</td>\n",
       "      <td>29.579018</td>\n",
       "      <td>1.247905e+05</td>\n",
       "      <td>2.746443e+08</td>\n",
       "      <td>1.789324e+06</td>\n",
       "      <td>1.932347e+05</td>\n",
       "      <td>2.441321e+08</td>\n",
       "    </tr>\n",
       "    <tr>\n",
       "      <th>min</th>\n",
       "      <td>0.000000</td>\n",
       "      <td>0.000000</td>\n",
       "      <td>0.000020</td>\n",
       "      <td>0.000000</td>\n",
       "      <td>-46.251000</td>\n",
       "      <td>0.000000</td>\n",
       "      <td>0.000001</td>\n",
       "      <td>0.000000</td>\n",
       "      <td>0.014500</td>\n",
       "      <td>0.000000</td>\n",
       "      <td>0.000000</td>\n",
       "      <td>3.098500e+04</td>\n",
       "      <td>0.000000e+00</td>\n",
       "      <td>0.000000e+00</td>\n",
       "      <td>0.000000e+00</td>\n",
       "      <td>6.574000e+03</td>\n",
       "    </tr>\n",
       "    <tr>\n",
       "      <th>25%</th>\n",
       "      <td>5179.250000</td>\n",
       "      <td>0.518000</td>\n",
       "      <td>0.507000</td>\n",
       "      <td>2.000000</td>\n",
       "      <td>-8.858000</td>\n",
       "      <td>0.035700</td>\n",
       "      <td>0.045200</td>\n",
       "      <td>0.000000</td>\n",
       "      <td>0.094100</td>\n",
       "      <td>0.339000</td>\n",
       "      <td>97.002000</td>\n",
       "      <td>1.800095e+05</td>\n",
       "      <td>1.826002e+06</td>\n",
       "      <td>2.158100e+04</td>\n",
       "      <td>5.090000e+02</td>\n",
       "      <td>1.767486e+07</td>\n",
       "    </tr>\n",
       "    <tr>\n",
       "      <th>50%</th>\n",
       "      <td>10358.500000</td>\n",
       "      <td>0.637000</td>\n",
       "      <td>0.666000</td>\n",
       "      <td>5.000000</td>\n",
       "      <td>-6.536000</td>\n",
       "      <td>0.050500</td>\n",
       "      <td>0.193000</td>\n",
       "      <td>0.000002</td>\n",
       "      <td>0.125000</td>\n",
       "      <td>0.537000</td>\n",
       "      <td>119.965000</td>\n",
       "      <td>2.132845e+05</td>\n",
       "      <td>1.450110e+07</td>\n",
       "      <td>1.244810e+05</td>\n",
       "      <td>3.277000e+03</td>\n",
       "      <td>4.968298e+07</td>\n",
       "    </tr>\n",
       "    <tr>\n",
       "      <th>75%</th>\n",
       "      <td>15537.750000</td>\n",
       "      <td>0.740250</td>\n",
       "      <td>0.798000</td>\n",
       "      <td>8.000000</td>\n",
       "      <td>-4.931000</td>\n",
       "      <td>0.103000</td>\n",
       "      <td>0.477250</td>\n",
       "      <td>0.000463</td>\n",
       "      <td>0.237000</td>\n",
       "      <td>0.726250</td>\n",
       "      <td>139.935000</td>\n",
       "      <td>2.524430e+05</td>\n",
       "      <td>7.039975e+07</td>\n",
       "      <td>5.221480e+05</td>\n",
       "      <td>1.436000e+04</td>\n",
       "      <td>1.383581e+08</td>\n",
       "    </tr>\n",
       "    <tr>\n",
       "      <th>max</th>\n",
       "      <td>20717.000000</td>\n",
       "      <td>0.975000</td>\n",
       "      <td>1.000000</td>\n",
       "      <td>11.000000</td>\n",
       "      <td>0.920000</td>\n",
       "      <td>0.964000</td>\n",
       "      <td>0.996000</td>\n",
       "      <td>1.000000</td>\n",
       "      <td>1.000000</td>\n",
       "      <td>0.993000</td>\n",
       "      <td>243.372000</td>\n",
       "      <td>4.676058e+06</td>\n",
       "      <td>8.079649e+09</td>\n",
       "      <td>5.078865e+07</td>\n",
       "      <td>1.608314e+07</td>\n",
       "      <td>3.386520e+09</td>\n",
       "    </tr>\n",
       "  </tbody>\n",
       "</table>\n",
       "</div>"
      ],
      "text/plain": [
       "         Unnamed: 0  Danceability        Energy           Key      Loudness   \n",
       "count  20718.000000  20716.000000  20716.000000  20716.000000  20716.000000  \\\n",
       "mean   10358.500000      0.619777      0.635250      5.300348     -7.671680   \n",
       "std     5980.915774      0.165272      0.214147      3.576449      4.632749   \n",
       "min        0.000000      0.000000      0.000020      0.000000    -46.251000   \n",
       "25%     5179.250000      0.518000      0.507000      2.000000     -8.858000   \n",
       "50%    10358.500000      0.637000      0.666000      5.000000     -6.536000   \n",
       "75%    15537.750000      0.740250      0.798000      8.000000     -4.931000   \n",
       "max    20717.000000      0.975000      1.000000     11.000000      0.920000   \n",
       "\n",
       "        Speechiness  Acousticness  Instrumentalness      Liveness   \n",
       "count  20716.000000  20716.000000      20716.000000  20716.000000  \\\n",
       "mean       0.096456      0.291535          0.055962      0.193521   \n",
       "std        0.111960      0.286299          0.193262      0.168531   \n",
       "min        0.000000      0.000001          0.000000      0.014500   \n",
       "25%        0.035700      0.045200          0.000000      0.094100   \n",
       "50%        0.050500      0.193000          0.000002      0.125000   \n",
       "75%        0.103000      0.477250          0.000463      0.237000   \n",
       "max        0.964000      0.996000          1.000000      1.000000   \n",
       "\n",
       "            Valence         Tempo   Duration_ms         Views         Likes   \n",
       "count  20716.000000  20716.000000  2.071600e+04  2.024800e+04  2.017700e+04  \\\n",
       "mean       0.529853    120.638340  2.247176e+05  9.393782e+07  6.633411e+05   \n",
       "std        0.245441     29.579018  1.247905e+05  2.746443e+08  1.789324e+06   \n",
       "min        0.000000      0.000000  3.098500e+04  0.000000e+00  0.000000e+00   \n",
       "25%        0.339000     97.002000  1.800095e+05  1.826002e+06  2.158100e+04   \n",
       "50%        0.537000    119.965000  2.132845e+05  1.450110e+07  1.244810e+05   \n",
       "75%        0.726250    139.935000  2.524430e+05  7.039975e+07  5.221480e+05   \n",
       "max        0.993000    243.372000  4.676058e+06  8.079649e+09  5.078865e+07   \n",
       "\n",
       "           Comments        Stream  \n",
       "count  2.014900e+04  2.014200e+04  \n",
       "mean   2.751899e+04  1.359422e+08  \n",
       "std    1.932347e+05  2.441321e+08  \n",
       "min    0.000000e+00  6.574000e+03  \n",
       "25%    5.090000e+02  1.767486e+07  \n",
       "50%    3.277000e+03  4.968298e+07  \n",
       "75%    1.436000e+04  1.383581e+08  \n",
       "max    1.608314e+07  3.386520e+09  "
      ]
     },
     "execution_count": 3,
     "metadata": {},
     "output_type": "execute_result"
    }
   ],
   "source": [
    "df_spotify_youtube.describe()"
   ]
  },
  {
   "cell_type": "code",
   "execution_count": 5,
   "id": "6ca1da5a-ce92-44e3-bec6-9b976d2a2029",
   "metadata": {},
   "outputs": [
    {
     "data": {
      "text/plain": [
       "['Unnamed: 0',\n",
       " 'Artist',\n",
       " 'Url_spotify',\n",
       " 'Track',\n",
       " 'Album',\n",
       " 'Album_type',\n",
       " 'Uri',\n",
       " 'Danceability',\n",
       " 'Energy',\n",
       " 'Key',\n",
       " 'Loudness',\n",
       " 'Speechiness',\n",
       " 'Acousticness',\n",
       " 'Instrumentalness',\n",
       " 'Liveness',\n",
       " 'Valence',\n",
       " 'Tempo',\n",
       " 'Duration_ms',\n",
       " 'Url_youtube',\n",
       " 'Title',\n",
       " 'Channel',\n",
       " 'Views',\n",
       " 'Likes',\n",
       " 'Comments',\n",
       " 'Description',\n",
       " 'Licensed',\n",
       " 'official_video',\n",
       " 'Stream']"
      ]
     },
     "execution_count": 5,
     "metadata": {},
     "output_type": "execute_result"
    }
   ],
   "source": [
    "df_spotify_youtube.columns.tolist()"
   ]
  },
  {
   "cell_type": "code",
   "execution_count": 6,
   "id": "54b26564-88de-4694-bcfb-d899476f40c6",
   "metadata": {},
   "outputs": [
    {
     "data": {
      "text/plain": [
       "0                                       Feel Good Inc.\n",
       "1                                      Rhinestone Eyes\n",
       "2        New Gold (feat. Tame Impala and Bootie Brown)\n",
       "3                                   On Melancholy Hill\n",
       "4                                       Clint Eastwood\n",
       "                             ...                      \n",
       "20713                             JUST DANCE HARDSTYLE\n",
       "20714                   SET FIRE TO THE RAIN HARDSTYLE\n",
       "20715                        OUTSIDE HARDSTYLE SPED UP\n",
       "20716                              ONLY GIRL HARDSTYLE\n",
       "20717                               MISS YOU HARDSTYLE\n",
       "Name: Track, Length: 20718, dtype: object"
      ]
     },
     "execution_count": 6,
     "metadata": {},
     "output_type": "execute_result"
    }
   ],
   "source": [
    "df_spotify_youtube[\"Track\"]"
   ]
  },
  {
   "cell_type": "code",
   "execution_count": 8,
   "id": "4f4afdcb-f21d-4bdf-9048-25552dc943e9",
   "metadata": {},
   "outputs": [
    {
     "data": {
      "text/plain": [
       "0         album\n",
       "1         album\n",
       "2        single\n",
       "3         album\n",
       "4         album\n",
       "          ...  \n",
       "20713    single\n",
       "20714    single\n",
       "20715    single\n",
       "20716    single\n",
       "20717    single\n",
       "Name: Album_type, Length: 20718, dtype: object"
      ]
     },
     "execution_count": 8,
     "metadata": {},
     "output_type": "execute_result"
    }
   ],
   "source": [
    "df_spotify_youtube[\"Album_type\"]"
   ]
  },
  {
   "cell_type": "code",
   "execution_count": 10,
   "id": "12f277c2-7cca-4a2c-a930-39bd95bdf213",
   "metadata": {},
   "outputs": [
    {
     "data": {
      "text/plain": [
       "array(['album', 'single', 'compilation'], dtype=object)"
      ]
     },
     "execution_count": 10,
     "metadata": {},
     "output_type": "execute_result"
    }
   ],
   "source": [
    "df_spotify_youtube[\"Album_type\"].unique()"
   ]
  },
  {
   "cell_type": "code",
   "execution_count": 11,
   "id": "64c5a45d-be56-4cac-ba93-ed3c12e49064",
   "metadata": {},
   "outputs": [
    {
     "data": {
      "text/plain": [
       "3"
      ]
     },
     "execution_count": 11,
     "metadata": {},
     "output_type": "execute_result"
    }
   ],
   "source": [
    "df_spotify_youtube[\"Album_type\"].nunique()"
   ]
  },
  {
   "cell_type": "code",
   "execution_count": 13,
   "id": "ade5d686-1515-4b90-97c8-42a3bfacb149",
   "metadata": {},
   "outputs": [
    {
     "data": {
      "text/plain": [
       "788"
      ]
     },
     "execution_count": 13,
     "metadata": {},
     "output_type": "execute_result"
    }
   ],
   "source": [
    "df_spotify_youtube['Album_type'].value_counts()['compilation']"
   ]
  },
  {
   "cell_type": "code",
   "execution_count": 14,
   "id": "9037299b-de75-4de5-8eef-2c4749c80a96",
   "metadata": {},
   "outputs": [
    {
     "data": {
      "text/plain": [
       "14926"
      ]
     },
     "execution_count": 14,
     "metadata": {},
     "output_type": "execute_result"
    }
   ],
   "source": [
    "df_spotify_youtube['Album_type'].value_counts()['album']"
   ]
  },
  {
   "cell_type": "code",
   "execution_count": 15,
   "id": "3205b534-4078-42b2-9ddc-6414c71fe40e",
   "metadata": {},
   "outputs": [
    {
     "data": {
      "text/plain": [
       "5004"
      ]
     },
     "execution_count": 15,
     "metadata": {},
     "output_type": "execute_result"
    }
   ],
   "source": [
    "df_spotify_youtube['Album_type'].value_counts()['single']"
   ]
  }
 ],
 "metadata": {
  "kernelspec": {
   "display_name": "Python 3 (ipykernel)",
   "language": "python",
   "name": "python3"
  },
  "language_info": {
   "codemirror_mode": {
    "name": "ipython",
    "version": 3
   },
   "file_extension": ".py",
   "mimetype": "text/x-python",
   "name": "python",
   "nbconvert_exporter": "python",
   "pygments_lexer": "ipython3",
   "version": "3.10.10"
  }
 },
 "nbformat": 4,
 "nbformat_minor": 5
}
